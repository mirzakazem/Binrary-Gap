{
  "nbformat": 4,
  "nbformat_minor": 0,
  "metadata": {
    "colab": {
      "name": "binary gap.ipynb",
      "provenance": [],
      "collapsed_sections": [],
      "authorship_tag": "ABX9TyPbl7BO8rAySlJNunpT5x5F",
      "include_colab_link": true
    },
    "kernelspec": {
      "name": "python3",
      "display_name": "Python 3"
    }
  },
  "cells": [
    {
      "cell_type": "markdown",
      "metadata": {
        "id": "view-in-github",
        "colab_type": "text"
      },
      "source": [
        "<a href=\"https://colab.research.google.com/github/mirzakazem/Binrary-Gap-codility-test-1/blob/main/binary_gap.ipynb\" target=\"_parent\"><img src=\"https://colab.research.google.com/assets/colab-badge.svg\" alt=\"Open In Colab\"/></a>"
      ]
    },
    {
      "cell_type": "markdown",
      "metadata": {
        "id": "kXwJ3xDmOomb"
      },
      "source": [
        "A binary gap within a positive integer N is any maximal sequence of consecutive zeros that is surrounded by ones at both ends in the binary representation of N.\n",
        "\n",
        "For example, number 9 has binary representation 1001 and contains a binary gap of length 2. The number 529 has binary representation 1000010001 and contains two binary gaps: one of length 4 and one of length 3. The number 20 has binary representation 10100 and contains one binary gap of length 1. The number 15 has binary representation 1111 and has no binary gaps. The number 32 has binary representation 100000 and has no binary gaps."
      ]
    },
    {
      "cell_type": "code",
      "metadata": {
        "id": "KLjG2AVK-lHZ",
        "outputId": "ff8faa4a-9537-4bab-e83c-e3ced098436e",
        "colab": {
          "base_uri": "https://localhost:8080/",
          "height": 51
        }
      },
      "source": [
        "def binaryGap(N):\n",
        "    max=0\n",
        "    counter=0\n",
        "    drawer= \"{0:b}\".format(N)\n",
        "    \n",
        "    ones_occurences=[]\n",
        "\n",
        "    for i in  range(len(drawer)):\n",
        "      temp=int(drawer[i])\n",
        "      if temp ==1:\n",
        "        ones_occurences.append(i)\n",
        "    \n",
        "    if len(ones_occurences)>=2:\n",
        "      for i in range(len(ones_occurences)-1):\n",
        "        temp = ones_occurences[i+1]-(ones_occurences[i]+1)\n",
        "        if temp > max:\n",
        "          max=temp\n",
        "\n",
        "\n",
        "    return max\n",
        "#replace 9 by any integer you want to check its binary gap\n",
        "n=9\n",
        "print(\"the binary format of\",n,\" is: {0:b}\".format(n))\n",
        "print(\"the binary gap of \",n,\" is:\",binaryGap(n))\n",
        "    \n",
        "\n"
      ],
      "execution_count": null,
      "outputs": [
        {
          "output_type": "stream",
          "text": [
            "the binary format of 9  is: 1001\n",
            "the binary gap of  9  is: 2\n"
          ],
          "name": "stdout"
        }
      ]
    }
  ]
}