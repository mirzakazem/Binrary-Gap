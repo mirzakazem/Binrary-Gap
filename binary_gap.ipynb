{
  "nbformat": 4,
  "nbformat_minor": 0,
  "metadata": {
    "colab": {
      "name": "binary gap.ipynb",
      "provenance": [],
      "authorship_tag": "ABX9TyP89pigW3TqqchVl7brluLV",
      "include_colab_link": true
    },
    "kernelspec": {
      "name": "python3",
      "display_name": "Python 3"
    }
  },
  "cells": [
    {
      "cell_type": "markdown",
      "metadata": {
        "id": "view-in-github",
        "colab_type": "text"
      },
      "source": [
        "<a href=\"https://colab.research.google.com/github/mirzakazem/Binrary-Gap/blob/main/binary_gap.ipynb\" target=\"_parent\"><img src=\"https://colab.research.google.com/assets/colab-badge.svg\" alt=\"Open In Colab\"/></a>"
      ]
    },
    {
      "cell_type": "code",
      "metadata": {
        "id": "KLjG2AVK-lHZ",
        "outputId": "724aca44-bbf1-47fd-eefb-a4d06a928b30",
        "colab": {
          "base_uri": "https://localhost:8080/",
          "height": 34
        }
      },
      "source": [
        "def solution(N):\n",
        "    max=0\n",
        "    counter=0\n",
        "    drawer= \"{0:b}\".format(N)\n",
        "    \n",
        "    ones_occurences=[]\n",
        "\n",
        "    for i in  range(len(drawer)):\n",
        "      temp=int(drawer[i])\n",
        "      if temp ==1:\n",
        "        ones_occurences.append(i)\n",
        "    \n",
        "    if len(ones_occurences)>=2:\n",
        "      for i in range(len(ones_occurences)-1):\n",
        "        temp = ones_occurences[i+1]-(ones_occurences[i]+1)\n",
        "        if temp > max:\n",
        "          max=temp\n",
        "\n",
        "\n",
        "    return max\n",
        "\n",
        "    \n",
        "  \n",
        "    \n",
        "\n"
      ],
      "execution_count": 61,
      "outputs": [
        {
          "output_type": "execute_result",
          "data": {
            "text/plain": [
              "0"
            ]
          },
          "metadata": {
            "tags": []
          },
          "execution_count": 61
        }
      ]
    }
  ]
}